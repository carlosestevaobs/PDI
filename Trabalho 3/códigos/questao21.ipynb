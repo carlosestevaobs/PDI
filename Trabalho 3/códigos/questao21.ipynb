{
 "cells": [
  {
   "cell_type": "markdown",
   "metadata": {},
   "source": [
    "Tópico 21 – Aplicar o método Crescimento de regiões em imagens binárias com inicialização com click na imagem. \n",
    "Tópico da aula 9."
   ]
  },
  {
   "cell_type": "code",
   "execution_count": 1,
   "metadata": {},
   "outputs": [],
   "source": [
    "import cv2\n",
    "import numpy as np\n",
    "from PIL import Image\n",
    "from matplotlib import pyplot as plt\n",
    "\n",
    "def get8n(x, y, shape):\n",
    "    out = []\n",
    "    maxx = shape[1]-1\n",
    "    maxy = shape[0]-1\n",
    "\n",
    "    #top left\n",
    "    outx = min(max(x-1,0),maxx)\n",
    "    outy = min(max(y-1,0),maxy)\n",
    "    out.append((outx,outy))\n",
    "\n",
    "    #top center\n",
    "    outx = x\n",
    "    outy = min(max(y-1,0),maxy)\n",
    "    out.append((outx,outy))\n",
    "\n",
    "    #top right\n",
    "    outx = min(max(x+1,0),maxx)\n",
    "    outy = min(max(y-1,0),maxy)\n",
    "    out.append((outx,outy))\n",
    "\n",
    "    #left\n",
    "    outx = min(max(x-1,0),maxx)\n",
    "    outy = y\n",
    "    out.append((outx,outy))\n",
    "\n",
    "    #right\n",
    "    outx = min(max(x+1,0),maxx)\n",
    "    outy = y\n",
    "    out.append((outx,outy))\n",
    "\n",
    "    #bottom left\n",
    "    outx = min(max(x-1,0),maxx)\n",
    "    outy = min(max(y+1,0),maxy)\n",
    "    out.append((outx,outy))\n",
    "\n",
    "    #bottom center\n",
    "    outx = x\n",
    "    outy = min(max(y+1,0),maxy)\n",
    "    out.append((outx,outy))\n",
    "\n",
    "    #bottom right\n",
    "    outx = min(max(x+1,0),maxx)\n",
    "    outy = min(max(y+1,0),maxy)\n",
    "    out.append((outx,outy))\n",
    "\n",
    "    return out\n",
    "\n",
    "def  CrescimentoDeRegiao(img, seed):\n",
    "    list = []\n",
    "    outimg = np.zeros_like(img)\n",
    "    list.append((seed[0], seed[1]))\n",
    "    processed = []\n",
    "    while(len(list) > 0):\n",
    "        pix = list[0]\n",
    "        outimg[pix[0], pix[1]] = 255\n",
    "        for coord in get8n(pix[0], pix[1], img.shape):\n",
    "            if img[coord[0], coord[1]] != 0:\n",
    "                outimg[coord[0], coord[1]] = 255\n",
    "                if not coord in processed:\n",
    "                    list.append(coord)\n",
    "                processed.append(coord)\n",
    "        list.pop(0)\n",
    "        cv2.imshow(\"Crescimento de região: \",outimg)\n",
    "        cv2.waitKey(1)\n",
    "    return outimg"
   ]
  },
  {
   "cell_type": "code",
   "execution_count": 2,
   "metadata": {},
   "outputs": [],
   "source": [
    "def Click(event, x, y, flags, params):\n",
    "    if event == cv2.EVENT_LBUTTONDOWN:\n",
    "        print ('Posição do clique: ' + str(x) + ', ' + str(y))\n",
    "        print ('Pressione enter para iniciar o processo de Crescimento de Região e aguarde o processamento')\n",
    "        clicks.append((y,x))"
   ]
  },
  {
   "cell_type": "code",
   "execution_count": 3,
   "metadata": {},
   "outputs": [
    {
     "name": "stdout",
     "output_type": "stream",
     "text": [
      "Posição do clique: 212, 77\n",
      "Pressione enter para iniciar o processo de Crescimento de Região e aguarde o processamento\n"
     ]
    },
    {
     "data": {
      "image/png": "[encoded data removed]",
      "text/plain": [
       "<Figure size 1152x1152 with 2 Axes>"
      ]
     },
     "metadata": {
      "needs_background": "light"
     },
     "output_type": "display_data"
    }
   ],
   "source": [
    "if __name__ == '__main__':\n",
    "    clicks = []\n",
    "    # Abrindo a imagem .gif e convertendo para png\n",
    "    Image.open('imagens/rat-08.gif').convert('RGB').save('imagens/rat-08.png')\n",
    "\n",
    "    image = cv2.imread('imagens/rat-08.png', 0)\n",
    "    ret, img = cv2.threshold(image, 128, 255, cv2.THRESH_BINARY)\n",
    "\n",
    "    cv2.namedWindow('Entrada: ')\n",
    "    cv2.setMouseCallback('Entrada: ', Click, 0, )\n",
    "    cv2.imshow('Entrada: ', img)\n",
    "    cv2.waitKey()\n",
    "    seed = clicks[-1]\n",
    "    out = CrescimentoDeRegiao(img, seed)\n",
    "  #  cv2.waitKey()\n",
    "    cv2.destroyAllWindows()\n",
    "    \n",
    "    plt.rcParams['figure.figsize'] = (16,16)\n",
    "    plt.subplot(2, 2, 1)\n",
    "    plt.imshow(image, 'gray')\n",
    "    plt.title(\"Imagem original\")   \n",
    "        \n",
    "    plt.subplot(2, 2, 2)\n",
    "    plt.imshow(out, 'gray')\n",
    "    plt.title(\"Objeto segmentado\")    "
   ]
  }
 ],
 "metadata": {
  "kernelspec": {
   "display_name": "Python 3",
   "language": "python",
   "name": "python3"
  },
  "language_info": {
   "codemirror_mode": {
    "name": "ipython",
    "version": 3
   },
   "file_extension": ".py",
   "mimetype": "text/x-python",
   "name": "python",
   "nbconvert_exporter": "python",
   "pygments_lexer": "ipython3",
   "version": "3.6.6"
  }
 },
 "nbformat": 4,
 "nbformat_minor": 2
}
